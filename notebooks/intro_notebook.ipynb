{
  "cells": [
    {
      "cell_type": "markdown",
      "metadata": {
        "id": "view-in-github",
        "colab_type": "text"
      },
      "source": [
        "<a href=\"https://colab.research.google.com/github/fernandopenalva/IESE-FRA-presession-24/blob/main/notebooks/intro_notebook.ipynb\" target=\"_parent\"><img src=\"https://colab.research.google.com/assets/colab-badge.svg\" alt=\"Open In Colab\"/></a>"
      ]
    },
    {
      "cell_type": "markdown",
      "metadata": {
        "id": "vbFlO6GyH04C"
      },
      "source": [
        "# Intro to Jupyter Notebooks and Google Colab\n",
        "\n",
        "[![Open In Colab](https://colab.research.google.com/assets/colab-badge.svg)](https://colab.research.google.com/github/unstructured-data/IESE-FRA-presession-24/blob/main/notebooks/intro_notebook.ipynb)\n",
        "\n",
        "<br><br>\n",
        "Topics for discussion\n",
        "- Advantages and limitations\n",
        "- Navigation panel\n",
        "- Downloading notebooks\n"
      ]
    },
    {
      "cell_type": "code",
      "execution_count": 4,
      "metadata": {
        "colab": {
          "base_uri": "https://localhost:8080/"
        },
        "id": "CpWPkgWzpMiR",
        "outputId": "9a09a15d-26be-4f96-c4da-e67a91dab440"
      },
      "outputs": [
        {
          "output_type": "execute_result",
          "data": {
            "text/plain": [
              "4"
            ]
          },
          "metadata": {},
          "execution_count": 4
        }
      ],
      "source": [
        "# some python code\n",
        "2+2"
      ]
    },
    {
      "cell_type": "code",
      "execution_count": null,
      "metadata": {
        "id": "bAzxtuu2GfW1"
      },
      "outputs": [],
      "source": [
        "# install python libraries\n",
        "!pip3 install pandas"
      ]
    }
  ],
  "metadata": {
    "colab": {
      "provenance": [],
      "include_colab_link": true
    },
    "kernelspec": {
      "display_name": "Python 3",
      "name": "python3"
    },
    "language_info": {
      "name": "python"
    }
  },
  "nbformat": 4,
  "nbformat_minor": 0
}